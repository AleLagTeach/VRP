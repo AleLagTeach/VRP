{
 "cells": [
  {
   "cell_type": "code",
   "execution_count": null,
   "id": "c4632e3c-afa1-4b6f-ab32-2441d669b9a0",
   "metadata": {},
   "outputs": [],
   "source": [
    "import numpy as np\n",
    "import matplotlib.pyplot as plt\n",
    "import pandas as pd"
   ]
  },
  {
   "cell_type": "code",
   "execution_count": null,
   "id": "2c1c01bf-cf4b-449d-94ab-fd8a1a6a2767",
   "metadata": {},
   "outputs": [],
   "source": [
    "dataset=pd.read_csv('customers.csv', sep=\";\")"
   ]
  },
  {
   "cell_type": "code",
   "execution_count": null,
   "id": "865eee9a-3f1a-481a-bd0e-b5676fa8ea07",
   "metadata": {},
   "outputs": [],
   "source": [
    "n=len(dataset)-1 #number of clients"
   ]
  },
  {
   "cell_type": "code",
   "execution_count": null,
   "id": "ee23fc68-14be-4fcb-bb2e-3d26c2452d9e",
   "metadata": {},
   "outputs": [],
   "source": [
    "n"
   ]
  },
  {
   "cell_type": "code",
   "execution_count": null,
   "id": "9b4e3014-f367-4a4d-af44-641ba351fe54",
   "metadata": {},
   "outputs": [],
   "source": [
    "Q=100 #vehicle capacity"
   ]
  },
  {
   "cell_type": "code",
   "execution_count": null,
   "id": "61ae5a04-5dd6-4fe5-840c-e2a7ae322353",
   "metadata": {},
   "outputs": [],
   "source": [
    "N = [i for i in range(1, n+1)] #set of clients\n",
    "V = [0] + N #clients+central depot"
   ]
  },
  {
   "cell_type": "code",
   "execution_count": null,
   "id": "8103bfa9-fe87-488f-8deb-6edb4bd7a3af",
   "metadata": {},
   "outputs": [],
   "source": [
    "N"
   ]
  },
  {
   "cell_type": "code",
   "execution_count": null,
   "id": "70c3067a-4789-4121-a693-08ee23017f03",
   "metadata": {},
   "outputs": [],
   "source": [
    "V"
   ]
  },
  {
   "cell_type": "code",
   "execution_count": null,
   "id": "ed93d277-0e40-4c34-8ea9-c9d205422b7d",
   "metadata": {},
   "outputs": [],
   "source": [
    "q={i: dataset.iloc[i]['DEMAND'] for i in N} #extraction of customers' demand\n",
    "#q = {i: rnd.randint(1, 10) for i in N}"
   ]
  },
  {
   "cell_type": "code",
   "execution_count": null,
   "id": "350fe48d-31aa-4859-b044-3b9403f21465",
   "metadata": {},
   "outputs": [],
   "source": [
    "q"
   ]
  },
  {
   "cell_type": "code",
   "execution_count": null,
   "id": "9c35100a-dd1c-4dea-9579-aecbb08438b0",
   "metadata": {},
   "outputs": [],
   "source": [
    "K=range(1,3) #numer of vehicles range(1,4)--> 3 vehicles, range(1,3)--> 2 vehicles..."
   ]
  },
  {
   "cell_type": "code",
   "execution_count": null,
   "id": "706bf7e1-24e6-4d92-abc0-e35152f1cffa",
   "metadata": {},
   "outputs": [],
   "source": [
    "xc = dataset['XCOORD'].tolist() #extract locations\n",
    "yc = dataset['YCOORD'].tolist()"
   ]
  },
  {
   "cell_type": "code",
   "execution_count": null,
   "id": "a0808976-278f-4e11-afac-c68c5e766397",
   "metadata": {},
   "outputs": [],
   "source": [
    "xc"
   ]
  },
  {
   "cell_type": "code",
   "execution_count": null,
   "id": "2cba6c7d-5298-4335-9665-d44b096b9f09",
   "metadata": {},
   "outputs": [],
   "source": [
    "yc"
   ]
  },
  {
   "cell_type": "code",
   "execution_count": null,
   "id": "e1eb4d20-27a2-4f6c-8f1d-ecd52f8a0977",
   "metadata": {},
   "outputs": [],
   "source": [
    "plt.plot(xc[0], yc[0], c='r', marker='s') # central depot location\n",
    "plt.scatter(xc[1:], yc[1:], c='b') #clients location"
   ]
  },
  {
   "cell_type": "code",
   "execution_count": null,
   "id": "da567813",
   "metadata": {},
   "outputs": [],
   "source": [
    "# function to compute distances between nodes\n",
    "from numpy import sin, cos, arccos, pi, round\n",
    "\n",
    "def rad2deg(radians):\n",
    "    degrees = radians * 180 / pi\n",
    "    return degrees\n",
    "\n",
    "def deg2rad(degrees):\n",
    "    radians = degrees * pi / 180\n",
    "    return radians\n",
    "\n",
    "def getDistanceBetweenPointsNew(latitude1, longitude1, latitude2, longitude2, unit = 'kilometers'):\n",
    "    \n",
    "    theta = longitude1 - longitude2\n",
    "    \n",
    "    distance = 60 * 1.1515 * rad2deg(\n",
    "        arccos(\n",
    "            (sin(deg2rad(latitude1)) * sin(deg2rad(latitude2))) + \n",
    "            (cos(deg2rad(latitude1)) * cos(deg2rad(latitude2)) * cos(deg2rad(theta)))\n",
    "        )\n",
    "    )\n",
    "    \n",
    "    if unit == 'miles':\n",
    "        return round(distance, 2)\n",
    "    if unit == 'kilometers':\n",
    "        return round(distance * 1.609344, 2)"
   ]
  },
  {
   "cell_type": "code",
   "execution_count": null,
   "id": "66c80ecf-0b4f-4511-9b24-ea0639b63516",
   "metadata": {},
   "outputs": [],
   "source": [
    "A = [(i, j, k) for i in V for j in V if i != j for k in K]\n",
    "Y = [(i, k) for i in V for k in K]\n",
    "U = [(i, k) for i in N for k in K]\n",
    "# definition of variables domain"
   ]
  },
  {
   "cell_type": "code",
   "execution_count": null,
   "id": "77340351",
   "metadata": {},
   "outputs": [],
   "source": [
    "c = {(i, j): getDistanceBetweenPointsNew(xc[i], yc[i], xc[j], yc[j], 'kilometers') for i, j, k in A}\n",
    " #distance between nodes"
   ]
  },
  {
   "cell_type": "code",
   "execution_count": null,
   "id": "7f38ae85",
   "metadata": {},
   "outputs": [],
   "source": [
    "c"
   ]
  },
  {
   "cell_type": "code",
   "execution_count": null,
   "id": "b868cfb4-8676-4af0-b2e6-4efb5ad31392",
   "metadata": {},
   "outputs": [],
   "source": [
    "#pip install gurobipy"
   ]
  },
  {
   "cell_type": "code",
   "execution_count": null,
   "id": "a2cde180-32fe-470c-ba97-77c70f15cde0",
   "metadata": {},
   "outputs": [],
   "source": [
    "from gurobipy import Model, GRB, quicksum"
   ]
  },
  {
   "cell_type": "code",
   "execution_count": null,
   "id": "ba4f90a0-1b3d-40ad-a422-1e72190966ac",
   "metadata": {},
   "outputs": [],
   "source": [
    "mdl = Model('CVRP')"
   ]
  },
  {
   "cell_type": "code",
   "execution_count": null,
   "id": "fe8c1b37-a962-4162-805e-b6241c38d893",
   "metadata": {},
   "outputs": [],
   "source": [
    "#decision variables definition\n",
    "x = mdl.addVars(A, vtype=GRB.BINARY) #travelled arcs\n",
    "z = mdl.addVars(Y, vtype=GRB.BINARY) #assignment of vehicles\n",
    "u = mdl.addVars(U, vtype=GRB.CONTINUOUS) #sub-tours avoidance"
   ]
  },
  {
   "cell_type": "code",
   "execution_count": null,
   "id": "4a8ceeef-ec51-447c-b5cc-f28146a46c67",
   "metadata": {},
   "outputs": [],
   "source": [
    "mdl.modelSense = GRB.MINIMIZE\n",
    "mdl.setObjective(quicksum(x[i, j, k]*c[i, j] for i, j, k in A))\n"
   ]
  },
  {
   "cell_type": "code",
   "execution_count": null,
   "id": "fe647fe3-c4af-4bd3-a9ee-d0d5edd48eca",
   "metadata": {},
   "outputs": [],
   "source": [
    "mdl.addConstrs(quicksum(x[i, j, k] for j in V for k in K if j != i) == 1 for i in N)\n",
    "mdl.addConstrs(quicksum(x[i, j, k] for i in V for k in K if i != j) == 1 for j in N)\n",
    "#Each node is visited by one vehicle. If a vehicle enter the node than \n",
    "#it must also leave that node.\n",
    "\n",
    "mdl.addConstrs(quicksum(z[i, k] for k in K) == 1 for i in N)\n",
    "#Each node is assigned to exactly one vehicle\n",
    "\n",
    "\n",
    "mdl.addConstr(quicksum(z[0, k] for k in K) == len(K))\n",
    "#Each vehicle must starts its route from the central depot\n",
    "\n",
    "mdl.addConstrs(quicksum(x[i, j, k] for j in V if j != i) - z[i, k] == 0 for i in V for k in K)\n",
    "#Each node is visited exactly by the planned vehicle.\n",
    "\n",
    "mdl.addConstrs((x[i, j, k] == 1) >> (u[i, k]+q[j] == u[j, k]) for i, j, k in A if i != 0 and j != 0)\n",
    "mdl.addConstrs(u[i, k] >= q[i] for i, k in U)\n",
    "mdl.addConstrs(quicksum(u[i, k] for i in N) <= Q for k in K)\n",
    "# Subtour elimination and the total quantity delivered by the vehicle on day t \n",
    "#must not exceed the vehicle’s capacity C.\n",
    "\n",
    "mdl.addConstrs(quicksum((x[j, i, k]-x[i, h, k]) for j in V for h in V if j != h if j != i if i != h) == 0 for i in V for k in K)\n",
    "#flow conservation constraint\n"
   ]
  },
  {
   "cell_type": "code",
   "execution_count": null,
   "id": "cda0a2f0-c35d-4f58-b3ab-c3b5b441b765",
   "metadata": {},
   "outputs": [],
   "source": [
    "#mdl.Params.MIPGap = 0.5\n",
    "mdl.Params.TimeLimit = 60  # optimisation duration in seconds\n",
    "mdl.optimize()"
   ]
  },
  {
   "cell_type": "code",
   "execution_count": null,
   "id": "c1b3192f-a7b6-4984-96f6-5eba00af976e",
   "metadata": {},
   "outputs": [],
   "source": [
    "active_arcs = [a for a in A if x[a].x > 0.99] #travelled arcs"
   ]
  },
  {
   "cell_type": "code",
   "execution_count": null,
   "id": "3c67a10d-6f6c-4095-b1da-a276f6d4483f",
   "metadata": {},
   "outputs": [],
   "source": [
    "active_arcs"
   ]
  },
  {
   "cell_type": "code",
   "execution_count": null,
   "id": "f7913e02-97a8-4ab7-bf65-84f91ef32865",
   "metadata": {},
   "outputs": [],
   "source": [
    "for i, j, k in active_arcs:\n",
    "    plt.plot([xc[i], xc[j]], [yc[i], yc[j]], c='g', zorder=0)\n",
    "plt.plot(xc[0], yc[0], c='r', marker='s')\n",
    "plt.scatter(xc[1:], yc[1:], c='b')"
   ]
  },
  {
   "cell_type": "code",
   "execution_count": null,
   "id": "45db6cd1-aab0-4981-ae41-32a32ba7dabe",
   "metadata": {},
   "outputs": [],
   "source": [
    "#time required to travel each route, assuming an average speed of 70km/h\n",
    "#total_TT={k:quicksum(c[i,j]/70 for i, j, k in active_arcs) for k in K} #"
   ]
  },
  {
   "cell_type": "code",
   "execution_count": null,
   "id": "84ccc404",
   "metadata": {},
   "outputs": [],
   "source": [
    "#total_TT"
   ]
  }
 ],
 "metadata": {
  "kernelspec": {
   "display_name": "Python 3 (ipykernel)",
   "language": "python",
   "name": "python3"
  },
  "language_info": {
   "codemirror_mode": {
    "name": "ipython",
    "version": 3
   },
   "file_extension": ".py",
   "mimetype": "text/x-python",
   "name": "python",
   "nbconvert_exporter": "python",
   "pygments_lexer": "ipython3",
   "version": "3.9.7"
  }
 },
 "nbformat": 4,
 "nbformat_minor": 5
}
